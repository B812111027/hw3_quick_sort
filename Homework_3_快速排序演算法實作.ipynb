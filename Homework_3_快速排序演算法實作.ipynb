{
  "nbformat": 4,
  "nbformat_minor": 0,
  "metadata": {
    "colab": {
      "provenance": []
    },
    "kernelspec": {
      "name": "python3",
      "display_name": "Python 3"
    },
    "language_info": {
      "name": "python"
    }
  },
  "cells": [
    {
      "cell_type": "code",
      "execution_count": 13,
      "metadata": {
        "colab": {
          "base_uri": "https://localhost:8080/"
        },
        "id": "REFc-hR7YF1I",
        "outputId": "da1e8f60-779a-44f6-fb89-2e3c8de63a79"
      },
      "outputs": [
        {
          "output_type": "stream",
          "name": "stdout",
          "text": [
            "請輸入要排序的數字，以空格分隔: 4 54 4 65 33 3 13 3 6 \n",
            "未排序數組: [4, 54, 4, 65, 33, 3, 13, 3, 6]\n",
            "交換元素: [4, 54, 4, 65, 33, 3, 13, 3, 6]\n",
            "交換元素: [4, 4, 54, 65, 33, 3, 13, 3, 6]\n",
            "交換元素: [4, 4, 3, 65, 33, 54, 13, 3, 6]\n",
            "交換元素: [4, 4, 3, 3, 33, 54, 13, 65, 6]\n",
            "交換樞紐: [4, 4, 3, 3, 6, 54, 13, 65, 33]\n",
            "分割點: 4, 當前數組狀態: [4, 4, 3, 3, 6, 54, 13, 65, 33]\n",
            "交換樞紐: [3, 4, 3, 4, 6, 54, 13, 65, 33]\n",
            "分割點: 0, 當前數組狀態: [3, 4, 3, 4, 6, 54, 13, 65, 33]\n",
            "交換元素: [3, 3, 4, 4, 6, 54, 13, 65, 33]\n",
            "交換樞紐: [3, 3, 4, 4, 6, 54, 13, 65, 33]\n",
            "分割點: 2, 當前數組狀態: [3, 3, 4, 4, 6, 54, 13, 65, 33]\n",
            "交換元素: [3, 3, 4, 4, 6, 13, 54, 65, 33]\n",
            "交換樞紐: [3, 3, 4, 4, 6, 13, 33, 65, 54]\n",
            "分割點: 6, 當前數組狀態: [3, 3, 4, 4, 6, 13, 33, 65, 54]\n",
            "交換樞紐: [3, 3, 4, 4, 6, 13, 33, 54, 65]\n",
            "分割點: 7, 當前數組狀態: [3, 3, 4, 4, 6, 13, 33, 54, 65]\n",
            "已排序數組: [3, 3, 4, 4, 6, 13, 33, 54, 65]\n"
          ]
        }
      ],
      "source": [
        "def swap(arr, i, j):\n",
        "    arr[i], arr[j] = arr[j], arr[i]\n",
        "\n",
        "def partition(arr, low, high):\n",
        "    pivot = arr[high]\n",
        "    i = low - 1\n",
        "\n",
        "    for j in range(low, high):\n",
        "        if arr[j] < pivot:\n",
        "            i += 1\n",
        "            swap(arr, i, j)\n",
        "            print(f\"交換元素: {arr}\")\n",
        "\n",
        "    swap(arr, i + 1, high)\n",
        "    print(f\"交換樞紐: {arr}\")\n",
        "    return i + 1\n",
        "\n",
        "def quick_sort(arr, low, high):\n",
        "    if low < high:\n",
        "        p = partition(arr, low, high)\n",
        "        print(f\"分割點: {p}, 當前數組狀態: {arr}\")\n",
        "\n",
        "        quick_sort(arr, low, p - 1)\n",
        "        quick_sort(arr, p + 1, high)\n",
        "\n",
        "if __name__ == \"__main__\":\n",
        "    user_input = input(\"請輸入要排序的數字，以空格分隔: \")\n",
        "    arr = list(map(int, user_input.split()))\n",
        "\n",
        "    print(\"未排序數組:\", arr)\n",
        "\n",
        "    quick_sort(arr, 0, len(arr) - 1)\n",
        "\n",
        "    print(\"已排序數組:\", arr)\n"
      ]
    }
  ]
}